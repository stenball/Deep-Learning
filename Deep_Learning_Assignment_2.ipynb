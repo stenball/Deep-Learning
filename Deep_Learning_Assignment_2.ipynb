{
  "nbformat": 4,
  "nbformat_minor": 0,
  "metadata": {
    "colab": {
      "name": "Deep Learning - Assignment 2",
      "provenance": [],
      "collapsed_sections": []
    },
    "kernelspec": {
      "name": "python3",
      "display_name": "Python 3"
    },
    "accelerator": "GPU"
  },
  "cells": [
    {
      "cell_type": "markdown",
      "metadata": {
        "id": "4cyMpt8e1itw",
        "colab_type": "text"
      },
      "source": [
        "# Multilabel image classification"
      ]
    },
    {
      "cell_type": "markdown",
      "metadata": {
        "id": "FhZFjuogGOoq",
        "colab_type": "text"
      },
      "source": [
        "**Instructions to run code:**\n",
        "\n",
        "Run all cells, and when prompted to authenticate by Google, just follow the instructions. The data will be downloaded as a zip file from google drive and will be unzipped in your local environment."
      ]
    },
    {
      "cell_type": "markdown",
      "metadata": {
        "id": "tJkVQMRm1uxn",
        "colab_type": "text"
      },
      "source": [
        "### Imports"
      ]
    },
    {
      "cell_type": "code",
      "metadata": {
        "id": "sFcnEUzdvssl",
        "colab_type": "code",
        "colab": {
          "base_uri": "https://localhost:8080/",
          "height": 408
        },
        "outputId": "1f4881f4-19f8-4111-f80d-0f390786ccc4"
      },
      "source": [
        "!pip install -U -q PyDrive\n",
        "from pydrive.auth import GoogleAuth\n",
        "from pydrive.drive import GoogleDrive\n",
        "from google.colab import auth\n",
        "from oauth2client.client import GoogleCredentials\n",
        "from google.colab import drive\n",
        "\n",
        "# Authenticate\n",
        "drive = None\n",
        "def authenticate():\n",
        "    global drive\n",
        "    auth.authenticate_user()\n",
        "    gauth = GoogleAuth()\n",
        "    gauth.credentials = GoogleCredentials.get_application_default()\n",
        "    drive = GoogleDrive(gauth)\n",
        "\n",
        "#Download files\n",
        "def downloadFiles(fileIds):\n",
        "    authenticate()\n",
        "    for fileId in fileIds:    \n",
        "        downloaded = drive.CreateFile({\"id\": fileId[1]})\n",
        "        downloaded.GetContentFile(fileId[0])\n",
        "\n",
        "from zipfile import ZipFile\n",
        "import pandas as pd\n",
        "from pandas import read_csv\n",
        "import re\n",
        "from PIL import Image\n",
        "from io import StringIO\n",
        "import os\n",
        "\n",
        "from torchvision import transforms\n",
        "import torchvision\n",
        "import torch\n",
        "import torch.nn as nn\n",
        "from torch.utils.data import Dataset, DataLoader\n",
        "\n",
        "import numpy as np\n",
        "\n",
        "from sklearn.metrics import f1_score\n",
        "\n",
        "!pip install livelossplot\n",
        "from livelossplot import PlotLosses"
      ],
      "execution_count": null,
      "outputs": [
        {
          "output_type": "stream",
          "text": [
            "Collecting livelossplot\n",
            "  Downloading https://files.pythonhosted.org/packages/7c/e4/a7884b57113dfe84d3565418820feae7a20964438beb1088b2b08820ad94/livelossplot-0.5.0-py3-none-any.whl\n",
            "Requirement already satisfied: matplotlib; python_version >= \"3.6\" in /usr/local/lib/python3.6/dist-packages (from livelossplot) (3.2.1)\n",
            "Requirement already satisfied: ipython in /usr/local/lib/python3.6/dist-packages (from livelossplot) (5.5.0)\n",
            "Requirement already satisfied: cycler>=0.10 in /usr/local/lib/python3.6/dist-packages (from matplotlib; python_version >= \"3.6\"->livelossplot) (0.10.0)\n",
            "Requirement already satisfied: numpy>=1.11 in /usr/local/lib/python3.6/dist-packages (from matplotlib; python_version >= \"3.6\"->livelossplot) (1.18.4)\n",
            "Requirement already satisfied: kiwisolver>=1.0.1 in /usr/local/lib/python3.6/dist-packages (from matplotlib; python_version >= \"3.6\"->livelossplot) (1.2.0)\n",
            "Requirement already satisfied: python-dateutil>=2.1 in /usr/local/lib/python3.6/dist-packages (from matplotlib; python_version >= \"3.6\"->livelossplot) (2.8.1)\n",
            "Requirement already satisfied: pyparsing!=2.0.4,!=2.1.2,!=2.1.6,>=2.0.1 in /usr/local/lib/python3.6/dist-packages (from matplotlib; python_version >= \"3.6\"->livelossplot) (2.4.7)\n",
            "Requirement already satisfied: pexpect; sys_platform != \"win32\" in /usr/local/lib/python3.6/dist-packages (from ipython->livelossplot) (4.8.0)\n",
            "Requirement already satisfied: traitlets>=4.2 in /usr/local/lib/python3.6/dist-packages (from ipython->livelossplot) (4.3.3)\n",
            "Requirement already satisfied: pickleshare in /usr/local/lib/python3.6/dist-packages (from ipython->livelossplot) (0.7.5)\n",
            "Requirement already satisfied: decorator in /usr/local/lib/python3.6/dist-packages (from ipython->livelossplot) (4.4.2)\n",
            "Requirement already satisfied: prompt-toolkit<2.0.0,>=1.0.4 in /usr/local/lib/python3.6/dist-packages (from ipython->livelossplot) (1.0.18)\n",
            "Requirement already satisfied: pygments in /usr/local/lib/python3.6/dist-packages (from ipython->livelossplot) (2.1.3)\n",
            "Requirement already satisfied: simplegeneric>0.8 in /usr/local/lib/python3.6/dist-packages (from ipython->livelossplot) (0.8.1)\n",
            "Requirement already satisfied: setuptools>=18.5 in /usr/local/lib/python3.6/dist-packages (from ipython->livelossplot) (46.3.0)\n",
            "Requirement already satisfied: six in /usr/local/lib/python3.6/dist-packages (from cycler>=0.10->matplotlib; python_version >= \"3.6\"->livelossplot) (1.12.0)\n",
            "Requirement already satisfied: ptyprocess>=0.5 in /usr/local/lib/python3.6/dist-packages (from pexpect; sys_platform != \"win32\"->ipython->livelossplot) (0.6.0)\n",
            "Requirement already satisfied: ipython-genutils in /usr/local/lib/python3.6/dist-packages (from traitlets>=4.2->ipython->livelossplot) (0.2.0)\n",
            "Requirement already satisfied: wcwidth in /usr/local/lib/python3.6/dist-packages (from prompt-toolkit<2.0.0,>=1.0.4->ipython->livelossplot) (0.1.9)\n",
            "Installing collected packages: livelossplot\n",
            "Successfully installed livelossplot-0.5.0\n"
          ],
          "name": "stdout"
        }
      ]
    },
    {
      "cell_type": "markdown",
      "metadata": {
        "id": "UBCld8XE1yQA",
        "colab_type": "text"
      },
      "source": [
        "### Load data"
      ]
    },
    {
      "cell_type": "code",
      "metadata": {
        "id": "FzIBPjUgx4xh",
        "colab_type": "code",
        "colab": {
          "base_uri": "https://localhost:8080/",
          "height": 34
        },
        "outputId": "51fec6d3-3312-420f-fa8a-68338f2af717"
      },
      "source": [
        "# specifying the zip file name \n",
        "file_name = '2020s1comp5329assignment2.zip'\n",
        "\n",
        "try:\n",
        "    _ = open(file_name, 'r')\n",
        "    print('Data already downloaded!')\n",
        "except:\n",
        "    print('Downloading data now...')\n",
        "    downloadFiles([[file_name, '1OwyhKVfuNTg-wxjPr-2xymoc8CdSDH0e']])\n",
        "    print('Done downloading!')\n",
        "    \n",
        "    # opening the zip file in READ mode \n",
        "    with ZipFile(file_name, 'r') as zip: \n",
        "        # extracting all the files \n",
        "        print('Extracting data now...') \n",
        "        zip.extractall() \n",
        "        print('Done extracting!') \n"
      ],
      "execution_count": null,
      "outputs": [
        {
          "output_type": "stream",
          "text": [
            "Data already downloaded!\n"
          ],
          "name": "stdout"
        }
      ]
    },
    {
      "cell_type": "markdown",
      "metadata": {
        "id": "KlaW3nof2Ptr",
        "colab_type": "text"
      },
      "source": [
        "### Create dataset"
      ]
    },
    {
      "cell_type": "code",
      "metadata": {
        "id": "xHq-u1zv7PAm",
        "colab_type": "code",
        "colab": {}
      },
      "source": [
        "class ImageDataset(Dataset):\n",
        "    def __init__(self, df, root_dir, transform=None):\n",
        "        \"\"\"\n",
        "        Args:\n",
        "            df (pandas DataFrame): Dataframe with labels.\n",
        "            root_dir (string): Directory with all the images.\n",
        "            transform (callable, optional): Optional transform to be applied\n",
        "                on a sample.\n",
        "        \"\"\"\n",
        "        self.NUM_LABELS = 19\n",
        "\n",
        "        self.label_frame = df\n",
        "        self.root_dir = os.path.join(root_dir, 'data')\n",
        "        self.transform = transform\n",
        "\n",
        "    def __len__(self):\n",
        "        return len(self.label_frame)\n",
        "\n",
        "    def __getitem__(self, idx):\n",
        "        if torch.is_tensor(idx):\n",
        "            idx = idx.tolist()\n",
        "\n",
        "        item = self.label_frame.iloc[idx]\n",
        "        img_name = os.path.join(self.root_dir, item['ImageID'])\n",
        "\n",
        "        image = Image.open(img_name)\n",
        "        if self.transform:\n",
        "            image = self.transform(image)\n",
        "\n",
        "        labels = [int(s) - 1 for s in item['Labels'].split(' ')]\n",
        "\n",
        "        # for i in range(len(labels), self.NUM_LABELS):\n",
        "        #     labels.append(-1)\n",
        "\n",
        "        labels_ohe = np.zeros(self.NUM_LABELS)\n",
        "        labels_ohe[labels] = 1\n",
        "        \n",
        "        sample = (image, torch.FloatTensor(labels_ohe))\n",
        "\n",
        "        return sample"
      ],
      "execution_count": null,
      "outputs": []
    },
    {
      "cell_type": "code",
      "metadata": {
        "id": "id2mXY0K1Ai1",
        "colab_type": "code",
        "colab": {}
      },
      "source": [
        "# Transformation to apply to images\n",
        "transform = transforms.Compose([\n",
        "    transforms.Resize(256),\n",
        "    transforms.CenterCrop(224),\n",
        "    transforms.ToTensor(),\n",
        "    transforms.Normalize(mean=[0.485, 0.456, 0.406], std=[0.229, 0.224, 0.225]),\n",
        "])"
      ],
      "execution_count": null,
      "outputs": []
    },
    {
      "cell_type": "code",
      "metadata": {
        "id": "X1zYiRZP-iKa",
        "colab_type": "code",
        "colab": {}
      },
      "source": [
        "root_dir = 'COMP5329S1A2Dataset'\n",
        "train_file = os.path.join(root_dir, 'train.csv')\n",
        "\n",
        "with open(train_file) as file:\n",
        "    lines = [re.sub(r'([^,])\"(\\s*[^\\n])', r'\\1/\"\\2', line) for line in file]\n",
        "\n",
        "df = pd.read_csv(StringIO(''.join(lines)), escapechar=\"/\")\n",
        "\n",
        "# Split data into training and validation set\n",
        "np.random.seed(0)\n",
        "mask = np.random.rand(len(df)) < 0.85\n",
        "train_df = df[mask]\n",
        "val_df = df[~mask]"
      ],
      "execution_count": null,
      "outputs": []
    },
    {
      "cell_type": "code",
      "metadata": {
        "id": "shwCMxJAF9gu",
        "colab_type": "code",
        "colab": {}
      },
      "source": [
        "# Create datasets\n",
        "train_set = ImageDataset(train_df, root_dir, transform=transform)\n",
        "train_loader = DataLoader(train_set, batch_size=10,\n",
        "                        shuffle=True, num_workers=4)\n",
        "\n",
        "val_set = ImageDataset(val_df, root_dir, transform=transform)\n",
        "val_loader = DataLoader(val_set, batch_size=100,\n",
        "                        shuffle=True, num_workers=4)"
      ],
      "execution_count": null,
      "outputs": []
    },
    {
      "cell_type": "markdown",
      "metadata": {
        "id": "ZPD4ewLD_ik0",
        "colab_type": "text"
      },
      "source": [
        "### Helper functions"
      ]
    },
    {
      "cell_type": "code",
      "metadata": {
        "id": "e6YVtALs-QJY",
        "colab_type": "code",
        "colab": {}
      },
      "source": [
        "# Note that what we refer to as \"accuracy\" is actually f1 score!\n",
        "def multilabel_accuracy(true, pred, label_threshold=0.5):\n",
        "    pred = pred.cpu().detach()\n",
        "    pred = pred > label_threshold\n",
        "    acc = f1_score(true, pred, average='micro')\n",
        "    return acc"
      ],
      "execution_count": null,
      "outputs": []
    },
    {
      "cell_type": "markdown",
      "metadata": {
        "id": "GF6UKCDS_lt_",
        "colab_type": "text"
      },
      "source": [
        "### Model initialization"
      ]
    },
    {
      "cell_type": "code",
      "metadata": {
        "id": "CDKY9pc2E1S1",
        "colab_type": "code",
        "colab": {}
      },
      "source": [
        "%%capture\n",
        "\n",
        "# Import pretrained resnet18 model from torchvision and freeze parameters\n",
        "\n",
        "model = torchvision.models.resnet18(pretrained=True)\n",
        "\n",
        "for param in model.parameters():\n",
        "    param.requires_grad = False\n",
        "\n",
        "num_ftrs = model.fc.in_features\n",
        "num_labels = 19\n",
        "model.fc = nn.Sequential(\n",
        "    nn.Linear(num_ftrs, 512),\n",
        "    nn.ReLU(),\n",
        "    nn.Linear(512, num_labels),\n",
        "    nn.Sigmoid()\n",
        ")\n",
        "\n",
        "criterion = nn.BCELoss()\n",
        "\n",
        "optimizer = torch.optim.SGD(model.fc.parameters(), lr=0.01, momentum=0.9)"
      ],
      "execution_count": null,
      "outputs": []
    },
    {
      "cell_type": "markdown",
      "metadata": {
        "id": "BSIEgj-m_o2f",
        "colab_type": "text"
      },
      "source": [
        "### Training"
      ]
    },
    {
      "cell_type": "code",
      "metadata": {
        "id": "IQqqahn2ACnt",
        "colab_type": "code",
        "colab": {
          "base_uri": "https://localhost:8080/",
          "height": 428
        },
        "outputId": "0390c22e-1702-4b3d-d96e-604f35fac96b"
      },
      "source": [
        "epochs = 10\n",
        "\n",
        "# utilise GPU\n",
        "if torch.cuda.is_available():\n",
        "    print('using GPU')\n",
        "    model = model.to('cuda')\n",
        "else:\n",
        "    print('using CPU')\n",
        "\n",
        "liveloss = PlotLosses()\n",
        "for ep in range(1, epochs + 1):\n",
        "    logs = {}\n",
        "\n",
        "    model.train()\n",
        "    ep_loss = 0.0\n",
        "    ep_acc = 0.0\n",
        "\n",
        "    # training phase\n",
        "    for step, (x, y) in enumerate(train_loader):\n",
        "        true = y\n",
        "        if torch.cuda.is_available():\n",
        "            x = x.to('cuda')\n",
        "            y = y.to('cuda')\n",
        "        # set gradient to zero        \n",
        "        optimizer.zero_grad()\n",
        "        # calculate output\n",
        "        p = model(x)\n",
        "        # calculate metrics\n",
        "        loss = criterion(p, y)\n",
        "        acc = multilabel_accuracy(true, p)\n",
        "        ep_loss += loss\n",
        "        ep_acc += acc\n",
        "        # back-prop\n",
        "        loss.backward()\n",
        "        # update parameters\n",
        "        optimizer.step()\n",
        "        if step % 100 == 0:\n",
        "            print('\\repoch: %d | step: %d | loss: %.2f | acc: %.4f'\n",
        "                  % (ep, step, ep_loss/(step+1), ep_acc/(step+1)), end='')\n",
        "    logs['loss'] = ep_loss/(step+1)\n",
        "    logs['acc'] = ep_acc/(step+1)\n",
        "            \n",
        "    # validation phase\n",
        "    model.eval()\n",
        "    val_loss = 0\n",
        "    val_acc = 0\n",
        "\n",
        "    for step, (x, y) in enumerate(val_loader):\n",
        "        true = y\n",
        "        if torch.cuda.is_available():\n",
        "            x = x.to('cuda')\n",
        "            y = y.to('cuda')\n",
        "        p = model(x)\n",
        "        val_loss += criterion(p, y)\n",
        "        val_acc += multilabel_accuracy(true, p)\n",
        "\n",
        "    print('\\nepoch: %d | val loss: %.2f | val acc: %.4f'\n",
        "          % (ep, val_loss/(step+1), val_acc/(step+1)))\n",
        "    logs['val_loss'] = val_loss/(step+1)\n",
        "    logs['val_acc'] = val_acc/(step+1)\n",
        "\n",
        "    # Update the live plot after every epoch\n",
        "    liveloss.update(logs, current_step=ep)\n",
        "    liveloss.send()"
      ],
      "execution_count": null,
      "outputs": [
        {
          "output_type": "display_data",
          "data": {
            "image/png": "[encoded data removed]",
            "text/plain": [
              "<Figure size 864x576 with 2 Axes>"
            ]
          },
          "metadata": {
            "tags": [],
            "needs_background": "light"
          }
        },
        {
          "output_type": "stream",
          "text": [
            "Accuracy\n",
            "\ttraining         \t (min:    0.660, max:    0.763, cur:    0.763)\n",
            "\tvalidation       \t (min:    0.738, max:    0.772, cur:    0.771)\n",
            "Loss\n",
            "\ttraining         \t (min:    0.100, max:    0.139, cur:    0.100)\n",
            "\tvalidation       \t (min:    0.097, max:    0.110, cur:    0.097)\n"
          ],
          "name": "stdout"
        }
      ]
    },
    {
      "cell_type": "markdown",
      "metadata": {
        "id": "pLa7EJBzChiC",
        "colab_type": "text"
      },
      "source": [
        "### Create dataset for test images"
      ]
    },
    {
      "cell_type": "code",
      "metadata": {
        "id": "17c5B4JizBl2",
        "colab_type": "code",
        "colab": {}
      },
      "source": [
        "class TestImageDataset(Dataset):\n",
        "    def __init__(self, df, root_dir, transform=None):\n",
        "        \"\"\"\n",
        "        Args:\n",
        "            df (pandas DataFrame): Dataframe with labels.\n",
        "            root_dir (string): Directory with all the images.\n",
        "            transform (callable, optional): Optional transform to be applied\n",
        "                on a sample.\n",
        "        \"\"\"\n",
        "        self.NUM_LABELS = 19\n",
        "\n",
        "        self.label_frame = df\n",
        "        self.root_dir = os.path.join(root_dir, 'data')\n",
        "        self.transform = transform\n",
        "\n",
        "    def __len__(self):\n",
        "        return len(self.label_frame)\n",
        "\n",
        "    def __getitem__(self, idx):\n",
        "        if torch.is_tensor(idx):\n",
        "            idx = idx.tolist()\n",
        "\n",
        "        item = self.label_frame.iloc[idx]\n",
        "        img_name = os.path.join(self.root_dir, item['ImageID'])\n",
        "\n",
        "        image = Image.open(img_name)\n",
        "        if self.transform:\n",
        "            image = self.transform(image)\n",
        "        \n",
        "        sample = (image, item['ImageID'])\n",
        "\n",
        "        return sample"
      ],
      "execution_count": null,
      "outputs": []
    },
    {
      "cell_type": "code",
      "metadata": {
        "id": "7jGwXasjCttT",
        "colab_type": "code",
        "colab": {}
      },
      "source": [
        "test_file = os.path.join(root_dir, 'test.csv')\n",
        "with open(test_file) as file:\n",
        "    lines = [re.sub(r'([^,])\"(\\s*[^\\n])', r'\\1/\"\\2', line) for line in file]\n",
        "\n",
        "test_df = pd.read_csv(StringIO(''.join(lines)), escapechar=\"/\")\n",
        "test_set = TestImageDataset(test_df, root_dir, transform=transform)\n",
        "test_loader = DataLoader(test_set, batch_size=1,\n",
        "                        shuffle=True, num_workers=4)\n",
        "test_data = {'ImageID': [], 'Labels': []}"
      ],
      "execution_count": null,
      "outputs": []
    },
    {
      "cell_type": "markdown",
      "metadata": {
        "id": "S6oX4Q9eC0xb",
        "colab_type": "text"
      },
      "source": [
        "### Predict labels for test images"
      ]
    },
    {
      "cell_type": "code",
      "metadata": {
        "id": "XZSVCIBMS8Ed",
        "colab_type": "code",
        "colab": {}
      },
      "source": [
        "model.eval()\n",
        "for step, (img, ID) in enumerate(test_loader):\n",
        "    if torch.cuda.is_available():\n",
        "        img = img.to('cuda')\n",
        "\n",
        "    # calculate output\n",
        "    p = model(img).cpu().detach().numpy()[0]\n",
        "\n",
        "    labels = []\n",
        "    nolabel = True\n",
        "    for i in range(p.shape[0]):\n",
        "        if p[i] > 0.5:\n",
        "            labels.append(i+1)\n",
        "            nolabel = False\n",
        "    # If no label had probability > 0.5, use label with highest probability\n",
        "    if nolabel:\n",
        "        labels.append(np.argmax(p) + 1)\n",
        "\n",
        "    labels = ' '.join(map(str, labels))\n",
        "\n",
        "    test_data['ImageID'].append(ID[0])\n",
        "    test_data['Labels'].append(labels)\n",
        "\n",
        "label_df = pd.DataFrame(test_data, columns = ['ImageID', 'Labels'])"
      ],
      "execution_count": null,
      "outputs": []
    },
    {
      "cell_type": "markdown",
      "metadata": {
        "id": "1UqcWXd8C5Cd",
        "colab_type": "text"
      },
      "source": [
        "### Download csv file with predicted labels"
      ]
    },
    {
      "cell_type": "code",
      "metadata": {
        "id": "9rG9vkY6GNRb",
        "colab_type": "code",
        "colab": {}
      },
      "source": [
        "# Download csv file with predicted labels\n",
        "from google.colab import files\n",
        "label_df.to_csv('predicted_labels.csv', index=False) \n",
        "files.download('predicted_labels.csv')"
      ],
      "execution_count": null,
      "outputs": []
    }
  ]
}