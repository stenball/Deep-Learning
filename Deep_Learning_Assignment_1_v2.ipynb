{
  "nbformat": 4,
  "nbformat_minor": 0,
  "metadata": {
    "colab": {
      "name": "Deep Learning - Assignment 1_v2.ipynb",
      "provenance": [],
      "collapsed_sections": []
    },
    "kernelspec": {
      "name": "python3",
      "display_name": "Python 3"
    }
  },
  "cells": [
    {
      "cell_type": "markdown",
      "metadata": {
        "id": "_yNfAbGRBjg0",
        "colab_type": "text"
      },
      "source": [
        "##Instructions"
      ]
    },
    {
      "cell_type": "markdown",
      "metadata": {
        "id": "fdSEb0NMBqv6",
        "colab_type": "text"
      },
      "source": [
        "If you are marking this assignment and want to use the test data make sure marker_mode is set to True and provide the test data and test labels below.\n",
        "Otherwise set marker mode to False."
      ]
    },
    {
      "cell_type": "code",
      "metadata": {
        "id": "qmCure2kB8Ms",
        "colab_type": "code",
        "colab": {}
      },
      "source": [
        "marker_mode = True\n",
        "# Provide test data and true test labels here\n",
        "test_data = None\n",
        "test_labels = None"
      ],
      "execution_count": null,
      "outputs": []
    },
    {
      "cell_type": "markdown",
      "metadata": {
        "id": "bKlXRb8TUuy-",
        "colab_type": "text"
      },
      "source": [
        "##Import packages"
      ]
    },
    {
      "cell_type": "code",
      "metadata": {
        "id": "tIXvAbr3wVro",
        "colab_type": "code",
        "colab": {}
      },
      "source": [
        "!pip install -U -q PyDrive\n",
        "from pydrive.auth import GoogleAuth\n",
        "from pydrive.drive import GoogleDrive\n",
        "from google.colab import auth\n",
        "from oauth2client.client import GoogleCredentials\n",
        "auth.authenticate_user()\n",
        "gauth = GoogleAuth()\n",
        "gauth.credentials = GoogleCredentials.get_application_default()\n",
        "drive = GoogleDrive(gauth)\n",
        "from googleapiclient.discovery import build\n",
        "drive_service = build('drive', 'v3')\n",
        "import io\n",
        "from googleapiclient.http import MediaIoBaseDownload\n",
        "\n",
        "import numpy as np\n",
        "from scipy.stats import bernoulli\n",
        "import h5py\n",
        "\n",
        "import time\n",
        "import matplotlib.pyplot as pl\n",
        "\n",
        "np.random.seed(42)"
      ],
      "execution_count": null,
      "outputs": []
    },
    {
      "cell_type": "markdown",
      "metadata": {
        "id": "4g-Tb_Y_VFn5",
        "colab_type": "text"
      },
      "source": [
        "##Download data"
      ]
    },
    {
      "cell_type": "code",
      "metadata": {
        "id": "9OYY6lFiSucI",
        "colab_type": "code",
        "colab": {}
      },
      "source": [
        "# Google drive id of the data\n",
        "train_data_id = '1CAqSwLA1yibqBr5psO6v-FpW9DQFB6ud'\n",
        "train_labels_id = '1qMwn7TM8reBqdrWKiPCi8jtRLNPRKc7w'\n",
        "\n",
        "# Download training data\n",
        "downloaded = drive.CreateFile({'id':train_data_id}) \n",
        "downloaded.GetContentFile('train_128.h5')\n",
        "with h5py.File('train_128.h5','r') as H:\n",
        "    data = np.copy(H['data'])\n",
        "\n",
        "# Download training labels\n",
        "downloaded = drive.CreateFile({'id':train_labels_id}) \n",
        "downloaded.GetContentFile('train_label.h5')\n",
        "with h5py.File('train_label.h5','r') as H:\n",
        "    label = np.copy(H['label'])"
      ],
      "execution_count": null,
      "outputs": []
    },
    {
      "cell_type": "markdown",
      "metadata": {
        "id": "4AQ-24nVVU12",
        "colab_type": "text"
      },
      "source": [
        "##Preprocess data"
      ]
    },
    {
      "cell_type": "markdown",
      "metadata": {
        "id": "TyxY_3HyVu3H",
        "colab_type": "text"
      },
      "source": [
        "###Normalize data"
      ]
    },
    {
      "cell_type": "code",
      "metadata": {
        "id": "yED9rYylL5lM",
        "colab_type": "code",
        "colab": {}
      },
      "source": [
        "def normalize_data(data):\n",
        "    nom = (data-data.min(axis=0))*(2)\n",
        "    denom = data.max(axis=0) - data.min(axis=0)\n",
        "    denom[denom==0] = 1\n",
        "    data = -1 + nom/denom\n",
        "    return data"
      ],
      "execution_count": null,
      "outputs": []
    },
    {
      "cell_type": "markdown",
      "metadata": {
        "id": "ohG1Qk7lV01-",
        "colab_type": "text"
      },
      "source": [
        "### Split into training and test set"
      ]
    },
    {
      "cell_type": "code",
      "metadata": {
        "id": "lX7hiDiQxwni",
        "colab_type": "code",
        "colab": {}
      },
      "source": [
        "if marker_mode:\n",
        "    data = normalize_data(data)\n",
        "    X_train = data\n",
        "    y_train = label\n",
        "    if test_data is not None:\n",
        "        test_data = normalize_data(test_data)\n",
        "        X_test = test_data\n",
        "        y_test = test_labels\n",
        "    else:\n",
        "        X_test = None\n",
        "        y_test = None\n",
        "else:\n",
        "    data = normalize_data(data)\n",
        "    #Stratified splitting of the data into train and test sets.\n",
        "    y=np.array(label)\n",
        "    train_index = np.zeros(len(y),dtype=bool)\n",
        "    test_index = np.zeros(len(y),dtype=bool)\n",
        "    values = np.unique(y)\n",
        "    for value in values:\n",
        "        value_index = np.nonzero(y==value)[0]\n",
        "        np.random.shuffle(value_index)\n",
        "        n = int(0.7*len(value_index))\n",
        "        train_index[value_index[:n]]=True\n",
        "        test_index[value_index[n:]]=True\n",
        "\n",
        "    X_train = data[train_index]\n",
        "    y_train = label[train_index]\n",
        "    X_test =  data[test_index]\n",
        "    y_test = label[test_index]"
      ],
      "execution_count": null,
      "outputs": []
    },
    {
      "cell_type": "markdown",
      "metadata": {
        "id": "QGOpGy8LWWW-",
        "colab_type": "text"
      },
      "source": [
        "### Transform labels to one-hot-encoding"
      ]
    },
    {
      "cell_type": "code",
      "metadata": {
        "id": "rhGMJ0y3L6Lm",
        "colab_type": "code",
        "colab": {}
      },
      "source": [
        "#One-Hot-Encoding the labels of both the train and the test sets\n",
        "train_label_OHE = np.zeros((y_train.size, y_train.max()+1))\n",
        "train_label_OHE[np.arange(y_train.size),y_train] = 1\n",
        "y_train = train_label_OHE\n",
        "\n",
        "if y_test is not None:\n",
        "    test_label_OHE = np.zeros((y_test.size, y_test.max()+1))\n",
        "    test_label_OHE[np.arange(y_test.size),y_test] = 1\n",
        "    y_test = test_label_OHE"
      ],
      "execution_count": null,
      "outputs": []
    },
    {
      "cell_type": "markdown",
      "metadata": {
        "id": "qHy3YAehWtAP",
        "colab_type": "text"
      },
      "source": [
        "##Create the model"
      ]
    },
    {
      "cell_type": "markdown",
      "metadata": {
        "id": "HAr8yAdjWwk1",
        "colab_type": "text"
      },
      "source": [
        "###Activation functions"
      ]
    },
    {
      "cell_type": "code",
      "metadata": {
        "id": "5w6vIwnHZLJf",
        "colab_type": "code",
        "colab": {}
      },
      "source": [
        "class Activation(object):\n",
        "    def __tanh(self, x):\n",
        "        return np.tanh(x)\n",
        "\n",
        "    def __tanh_deriv(self, a):\n",
        "        return 1.0 - a**2\n",
        "\n",
        "    def __logistic(self, x):\n",
        "        return 1.0 / (1.0 + np.exp(-x))\n",
        "\n",
        "    def __logistic_deriv(self, a):\n",
        "        return  a * (1 - a )\n",
        "\n",
        "    def __relu(self, x):\n",
        "        return x * (x > 0)\n",
        "\n",
        "    def __relu_deriv(self, a):\n",
        "        return (a > 0)\n",
        "\n",
        "    def __softmax_old(self, x):\n",
        "        exp = np.exp(x - np.max(x))\n",
        "        return exp / (np.sum(exp) + 1e-6)\n",
        "\n",
        "    def __softmax(self, x):\n",
        "        if len(x.shape) > 1:\n",
        "            out = np.zeros(x.shape)\n",
        "            for i in range(x.shape[0]):\n",
        "                exp = np.exp(x[i,:] - np.max(x[i,:]))\n",
        "                out[i,:] = exp / np.sum(exp)\n",
        "        else:\n",
        "            exp = np.exp(x - np.max(x))\n",
        "            out = exp / (np.sum(exp))\n",
        "        return out\n",
        "\n",
        "    def __softmax_deriv_old(self, a):\n",
        "        sm = self.__softmax(a)\n",
        "        return sm*(1 - sm)\n",
        "\n",
        "    def __softmax_deriv(self, a):\n",
        "        return a*(1 - a)\n",
        "\n",
        "    def __init__(self,activation='relu'):\n",
        "        if activation == 'logistic':\n",
        "            self.f = self.__logistic\n",
        "            self.f_deriv = self.__logistic_deriv\n",
        "        elif activation == 'tanh':\n",
        "            self.f = self.__tanh\n",
        "            self.f_deriv = self.__tanh_deriv\n",
        "        elif activation == 'softmax':\n",
        "            self.f = self.__softmax\n",
        "            self.f_deriv = self.__softmax_deriv\n",
        "        elif activation == 'relu':\n",
        "            self.f = self.__relu\n",
        "            self.f_deriv = self.__relu_deriv"
      ],
      "execution_count": null,
      "outputs": []
    },
    {
      "cell_type": "markdown",
      "metadata": {
        "id": "ZA0kwnJ8XN48",
        "colab_type": "text"
      },
      "source": [
        "###Standard hidden layer"
      ]
    },
    {
      "cell_type": "code",
      "metadata": {
        "id": "T-NuH11LahFu",
        "colab_type": "code",
        "colab": {}
      },
      "source": [
        "class HiddenLayer(object):\n",
        "    def __init__(self, n_in, n_out, activation_last_layer='relu', activation='relu', dropout=0, W=None, b=None):\n",
        "        self.input=None\n",
        "        self.output=None\n",
        "        self.activation=Activation(activation).f\n",
        "        self.activation_deriv=None\n",
        "        if activation_last_layer:\n",
        "            self.activation_deriv=Activation(activation_last_layer).f_deriv\n",
        "\n",
        "        # Modified Kaiming normal initialization\n",
        "        self.W = np.random.normal(scale=np.sqrt(2/(n_in + n_out)), size=(n_in,n_out))\n",
        "        self.b = np.zeros(n_out,)\n",
        "        \n",
        "        self.grad_W = np.zeros(self.W.shape)\n",
        "        self.grad_b = np.zeros(self.b.shape)\n",
        "        self.weight_momentum = np.zeros(self.W.shape)\n",
        "        self.bias_momentum = np.zeros(self.b.shape)\n",
        "        self.dropout = dropout\n",
        "        self.dropout_distribution = None\n",
        "\n",
        "    def forward(self, input, train_mode=True, output_layer=False):\n",
        "        # Apply linear transformation to input\n",
        "        # If not training, multiply weights by dropout factor\n",
        "        if (not train_mode) and self.dropout:\n",
        "            lin_output = np.dot(input, self.W*(1-self.dropout)) + self.b*(1-self.dropout)\n",
        "        else:\n",
        "            lin_output = np.dot(input, self.W) + self.b\n",
        "\n",
        "        # Apply activation function\n",
        "        self.output = (\n",
        "            lin_output if self.activation is None\n",
        "            else self.activation(lin_output))\n",
        "\n",
        "        # Apply dropout if this is not output layer and network is in training mode\n",
        "        if train_mode and self.dropout and not output_layer:\n",
        "            self.dropout_distribution = dropout_distribution = bernoulli.rvs(1-self.dropout, size=self.b.size)\n",
        "            self.output = self.dropout_distribution * self.output   \n",
        "        \n",
        "        self.input=input\n",
        "        return self.output\n",
        "    \n",
        "    def backward(self, delta, output_layer=False):  \n",
        "        # Calculate gradients\n",
        "        self.grad_W = np.atleast_2d(self.input).T.dot(np.atleast_2d(delta))\n",
        "        self.grad_b = np.sum(delta,axis=0)\n",
        "\n",
        "        # Calculate the sensitivity to pass backwards\n",
        "        if self.activation_deriv:\n",
        "            delta = delta.dot(self.W.T) * self.activation_deriv(self.input)\n",
        "        return delta"
      ],
      "execution_count": null,
      "outputs": []
    },
    {
      "cell_type": "markdown",
      "metadata": {
        "id": "fOYFpJ3gXSfg",
        "colab_type": "text"
      },
      "source": [
        "###Batch normalization layer"
      ]
    },
    {
      "cell_type": "code",
      "metadata": {
        "id": "2zVQ4dYfw5L6",
        "colab_type": "code",
        "colab": {}
      },
      "source": [
        "class BNLayer(object):\n",
        "    def __init__(self, n_nodes):\n",
        "        self.input=None\n",
        "        self.output=None\n",
        "\n",
        "        # Initialize W to ones and b to zeros\n",
        "        self.W = np.ones(n_nodes,)\n",
        "        self.b = np.zeros(n_nodes,)\n",
        "        self.grad_W = np.zeros(self.W.shape)\n",
        "        self.grad_b = np.zeros(self.b.shape)\n",
        "        self.bias_momentum = 0\n",
        "        self.weight_momentum = 0\n",
        "        self.mean = None\n",
        "        self.var = None\n",
        "\n",
        "    def forward(self, input, train_mode=True):\n",
        "        # Update mean, variance and layer input if network is in training mode\n",
        "        if train_mode:\n",
        "            self.mean = np.mean(input, axis=0)\n",
        "            self.var = np.var(input, axis=0)\n",
        "            self.input = input\n",
        "\n",
        "        # Normalize input\n",
        "        norm_input = (input - self.mean) / np.sqrt(self.var + 1e-3)\n",
        "\n",
        "        # Apply linear transformation\n",
        "        output = norm_input * self.W + self.b\n",
        "        return output\n",
        "\n",
        "    def backward(self, delta, output_layer=False):\n",
        "        batch_size = self.input.shape[0]\n",
        "        X_centered = self.input - self.mean\n",
        "        X_norm = X_centered / np.sqrt(self.var + 1e-3)\n",
        "        std_inv = 1 / np.sqrt(self.var + 1e-3)\n",
        "        \n",
        "        # Calculate gradients\n",
        "        self.grad_b = np.sum(delta, axis=0)\n",
        "        self.grad_W = np.sum(delta*X_norm, axis=0)\n",
        "\n",
        "        # Calculate sensitivity. Based on\n",
        "        # https://kratzert.github.io/2016/02/12/understanding-the-gradient-flow-through-the-batch-normalization-layer.html\n",
        "        delta = 1 / batch_size * self.W * std_inv * (batch_size * delta\n",
        "            - np.sum(delta, axis=0) - X_centered * std_inv**2 * np.sum(delta * X_centered, axis=0))\n",
        "        return delta"
      ],
      "execution_count": null,
      "outputs": []
    },
    {
      "cell_type": "markdown",
      "metadata": {
        "id": "hGrcRrV0XVqw",
        "colab_type": "text"
      },
      "source": [
        "###The MLP"
      ]
    },
    {
      "cell_type": "code",
      "metadata": {
        "colab_type": "code",
        "id": "ujaUwqXfqqFv",
        "colab": {}
      },
      "source": [
        "class MLP:\n",
        "    def __init__(self, layers, activation, momentum_term=0.9, weight_decay=0, dropout=0, batch_normalization=False):\n",
        "        self.layers=[]\n",
        "        self.params=[]\n",
        "        self.activation=activation\n",
        "\n",
        "        # Add layers and activation functions to network\n",
        "        for i in range(len(layers)-1):\n",
        "            # Add batch normalization layers between other layers if wanted\n",
        "            if batch_normalization:\n",
        "                self.layers.append(BNLayer(layers[i]))\n",
        "            \n",
        "            self.layers.append(HiddenLayer(layers[i],layers[i+1],activation[i],activation[i+1], dropout=dropout))\n",
        "        self.batch_normalization = batch_normalization\n",
        "        self.momentum_term = momentum_term\n",
        "        self.decay_factor = 1 - weight_decay\n",
        "\n",
        "    def forward(self,input, train_mode=True):\n",
        "        # Forward propagation of input through network\n",
        "        for layer in self.layers[:-1]:\n",
        "            output=layer.forward(input, train_mode)\n",
        "            input=output\n",
        "        \n",
        "        # Output layer is a special case\n",
        "        output=self.layers[-1].forward(input, train_mode, output_layer=True)\n",
        "        return output\n",
        "\n",
        "    def criterion_MSE(self,y,y_hat):\n",
        "        activation_deriv = Activation(self.activation[-1]).f_deriv\n",
        "        error = y-y_hat\n",
        "        loss = np.dot(error, error)\n",
        "        delta = -error*activation_deriv(y_hat)    \n",
        "        return loss,delta\n",
        "\n",
        "    def cross_entropy(self,y,y_hat):\n",
        "        loss = -np.dot(y, np.log(y_hat + 1e-9))\n",
        "        delta = y_hat-y\n",
        "        activation_deriv = Activation(self.activation[-1]).f_deriv\n",
        "        delta = delta*activation_deriv(y_hat)\n",
        "        return loss,delta\n",
        "\n",
        "    def backward(self,delta):\n",
        "        # Output layer is a special case\n",
        "        delta=self.layers[-1].backward(delta,output_layer=True)\n",
        "\n",
        "        # Don't backward propagate to input layer\n",
        "        if self.batch_normalization:\n",
        "            layers = self.layers[1:-1]\n",
        "        else:\n",
        "            layers = self.layers[:-1]\n",
        "\n",
        "        # Backward propagation through network\n",
        "        for layer in reversed(layers):\n",
        "            delta=layer.backward(delta)\n",
        "            \n",
        "    def update(self,lr):\n",
        "        # Update parameters for all layers with momentum and weight decay if specified\n",
        "        for layer in self.layers:\n",
        "            layer.weight_momentum = self.momentum_term * layer.weight_momentum + lr * layer.grad_W\n",
        "            layer.W -= layer.weight_momentum\n",
        "            layer.W = layer.W * self.decay_factor\n",
        "\n",
        "            layer.bias_momentum = self.momentum_term * layer.bias_momentum + lr * layer.grad_b\n",
        "            layer.b -= layer.bias_momentum\n",
        "            layer.b = layer.b * self.decay_factor\n",
        "\n",
        "    def fit(self,X,y,learning_rate=0.001, batch_size=32, epochs=50, eval_mode=False, X_test=None, y_test=None):\n",
        "        X=np.array(X)\n",
        "        y=np.array(y)\n",
        "\n",
        "        # Store training and testing accuracies if network is in evaluation mode\n",
        "        if eval_mode:\n",
        "            to_return = np.zeros((epochs,3))\n",
        "        else:\n",
        "            to_return = np.zeros(epochs)\n",
        "        \n",
        "        for k in range(epochs):\n",
        "\n",
        "            # Number of iterations in each epoch depends on batch size\n",
        "            n_iterations = int(np.floor(X.shape[0] / batch_size))\n",
        "\n",
        "            # Store loss, then average for each epoch\n",
        "            loss=np.zeros((n_iterations,batch_size))\n",
        "\n",
        "            # Randomly select a sequence of indices\n",
        "            epoch_indices = np.random.choice(range(X.shape[0]), size=X.shape[0], replace=False)\n",
        "\n",
        "            for it in range(n_iterations):\n",
        "                # Select batch indices from the epoch-wide sequence of indices\n",
        "                batch_indices = epoch_indices[it*batch_size:(it+1)*batch_size]\n",
        "\n",
        "                # Forward propagate through network\n",
        "                y_hat = self.forward(X[batch_indices])\n",
        "\n",
        "                # Store deltas and calculate average batch loss\n",
        "                delta = []\n",
        "                for i in range(batch_size):\n",
        "                    #y_hat = self.forward(X[i])\n",
        "                    if self.activation[-1] == 'softmax':\n",
        "                        temp_loss,temp_delta = self.cross_entropy(y[batch_indices[i],:], y_hat[i,:])\n",
        "                    else:\n",
        "                        temp_loss,temp_delta = self.criterion_MSE(y[batch_indices[i],:], y_hat[i,:])\n",
        "                    loss[it] += temp_loss / batch_size\n",
        "                    delta.append(temp_delta)\n",
        "\n",
        "                # Backward propagate through network\n",
        "                self.backward(np.array(delta))\n",
        "\n",
        "                # Update parameters\n",
        "                self.update(learning_rate)\n",
        "\n",
        "            # Store wanted values\n",
        "            if eval_mode:\n",
        "                train_accuracy = accuracy_score(self.predict(X_train), y_train)\n",
        "                test_accuracy = accuracy_score(self.predict(X_test), y_test)\n",
        "                epoch_results = np.array([np.mean(loss), train_accuracy, test_accuracy])\n",
        "                to_return[k,:] = epoch_results\n",
        "            else:\n",
        "                to_return[k] = np.mean(loss)\n",
        "        return to_return\n",
        "\n",
        "    def predict(self, x):\n",
        "        x = np.array(x)\n",
        "        output = np.zeros((x.shape[0],10))\n",
        "        for i in np.arange(x.shape[0]):\n",
        "            # Forward pass through network with dropout turned off\n",
        "            output[i,:] = nn.forward(x[i,:], train_mode=False)\n",
        "        return output"
      ],
      "execution_count": null,
      "outputs": []
    },
    {
      "cell_type": "code",
      "metadata": {
        "id": "ZIfuLXkfiFG2",
        "colab_type": "code",
        "colab": {}
      },
      "source": [
        "def accuracy_score(predictions, ground_truth):\n",
        "    predictions = np.argmax(predictions, axis=1)\n",
        "    ground_truth = np.argmax(ground_truth, axis=1)\n",
        "    return sum(predictions == ground_truth)/predictions.size"
      ],
      "execution_count": null,
      "outputs": []
    },
    {
      "cell_type": "markdown",
      "metadata": {
        "id": "8SNX1RZ9X43A",
        "colab_type": "text"
      },
      "source": [
        "##Train the network"
      ]
    },
    {
      "cell_type": "markdown",
      "metadata": {
        "id": "KMtkPiT_3aUX",
        "colab_type": "text"
      },
      "source": [
        "We concluded that a network structure of two hidden layers where the first layer has 256 nodes and the second layer has 128 nodes worked well.\n",
        "\n",
        "Using softmax for the final layer with cross-entropy loss yielded approximately the same results as using relu for the final layer with MSE loss.\n",
        "\n",
        "A momentum term ($\\gamma$ in our report) equal to 0.9 also worked well.\n",
        "\n",
        "We found that weight decay and batch normalization only worsened the performance of our network, while dropout improved the performance. We settled on a probability of 0.3 to NOT retain a unit.\n",
        "\n",
        "An optimal value of the learning rate was found to be around 0.001, an adequate batch size was found to be 128 and the loss stopped decreasing well before epoch 50, so we settled on 50 epochs.\n",
        "\n",
        "This was the network structure and parameters used when producing the labels for the test data set."
      ]
    },
    {
      "cell_type": "markdown",
      "metadata": {
        "id": "xHkCvX6C7Tj9",
        "colab_type": "text"
      },
      "source": [
        "The code just below is used for evaluating the models performance on the training data. When training the model on the training data and evaluating the performance on the test data which we lack the labels for, please use the code at the bottom of the notebook."
      ]
    },
    {
      "cell_type": "code",
      "metadata": {
        "id": "iu7RlvZYTQVV",
        "colab_type": "code",
        "colab": {
          "base_uri": "https://localhost:8080/",
          "height": 52
        },
        "outputId": "abcee0a1-10aa-4926-a703-a97123d01ef1"
      },
      "source": [
        "# Change to true if you want to see detailed results (takes much longer).\n",
        "eval_mode = False\n",
        "\n",
        "# Create network (reduce size of layers if you think it takes too long)\n",
        "nn = MLP([128,256,128,10], [None,'relu','relu','softmax'], momentum_term=0.9,\n",
        "         weight_decay=0, dropout=0.5, batch_normalization=False)\n",
        "\n",
        "# Time the training\n",
        "start = time.time()\n",
        "\n",
        "# Train network\n",
        "if eval_mode:\n",
        "    results = nn.fit(X_train, y_train, learning_rate=1e-3,\n",
        "              batch_size=128, epochs=50, eval_mode=True, X_test=X_test, y_test=y_test)\n",
        "else:\n",
        "    results = nn.fit(X_train, y_train, learning_rate=1e-3,\n",
        "              batch_size=128, epochs=50, eval_mode=False)  \n",
        "    \n",
        "end = time.time()\n",
        "\n",
        "print('Finished training')\n",
        "print('Time to train network: %.1f seconds' %(end-start))"
      ],
      "execution_count": null,
      "outputs": [
        {
          "output_type": "stream",
          "text": [
            "Finished training\n",
            "Time to train network: 345.3 seconds\n"
          ],
          "name": "stdout"
        }
      ]
    },
    {
      "cell_type": "code",
      "metadata": {
        "id": "mB0SiYSAu-uT",
        "colab_type": "code",
        "colab": {
          "base_uri": "https://localhost:8080/",
          "height": 279
        },
        "outputId": "4947a65e-b051-47da-a34b-4104b8d6d4e9"
      },
      "source": [
        "# Present results\n",
        "\n",
        "# Print accuracy if test data and test labels are provided\n",
        "if (X_test is not None) and (y_test is not None):\n",
        "    test_predictions = nn.predict(X_test)\n",
        "    print(\"Accuracy on test set: %.4f\" %accuracy_score(test_predictions, y_test))\n",
        "\n",
        "# If eval mode was NOT used, plot only the loss\n",
        "if not eval_mode:\n",
        "    pl.figure(figsize=(15,4))\n",
        "    pl.plot(results)\n",
        "    pl.xlabel('Epochs')\n",
        "    pl.ylabel('Loss')\n",
        "    pl.grid()\n",
        "\n",
        "# If eval mode was used, plot training set and test set accuracy\n",
        "else:\n",
        "    pl.figure(figsize=(15,4))\n",
        "    pl.plot(results[:,1], label='Training set')\n",
        "    pl.plot(results[:,2], label='Test test')\n",
        "    pl.xlabel('Epochs')\n",
        "    pl.ylabel('Accuracy')\n",
        "    pl.legend()\n",
        "    pl.grid()"
      ],
      "execution_count": null,
      "outputs": [
        {
          "output_type": "display_data",
          "data": {
            "image/png": "[encoded data removed]",
            "text/plain": [
              "<Figure size 1080x288 with 1 Axes>"
            ]
          },
          "metadata": {
            "tags": [],
            "needs_background": "light"
          }
        }
      ]
    },
    {
      "cell_type": "markdown",
      "metadata": {
        "id": "MRlfybKeTVSg",
        "colab_type": "text"
      },
      "source": [
        "The code below was used to produce the labels for the test data."
      ]
    },
    {
      "cell_type": "code",
      "metadata": {
        "id": "ok4_MYjy7sb7",
        "colab_type": "code",
        "colab": {
          "base_uri": "https://localhost:8080/",
          "height": 89
        },
        "outputId": "7e673a0d-c503-4c62-c100-b25f9dd65385"
      },
      "source": [
        "test_data_id = '1ggYsoPpMztw2FM8wFEgk8HqXFumjDZ79'\n",
        "\n",
        "# Download training data\n",
        "drive = GoogleDrive(gauth)\n",
        "downloaded = drive.CreateFile({'id':test_data_id}) \n",
        "downloaded.GetContentFile('test_128.h5', 'r')\n",
        "with h5py.File('test_128.h5') as H:\n",
        "    data = np.copy(H['data'])\n",
        "\n",
        "X_test = data\n",
        "test_predictions = nn.predict(X_test)\n",
        "test_labels = np.argmax(test_predictions, axis=1)\n",
        "\n",
        "from google.colab import drive\n",
        "drive.mount('/content/drive')\n",
        "\n",
        "hf = h5py.File('/content/drive/My Drive/Predicted_labels.h5', 'w')\n",
        "hf.create_dataset('label', data=test_labels)\n",
        "hf.close()"
      ],
      "execution_count": null,
      "outputs": [
        {
          "output_type": "stream",
          "text": [
            "/usr/local/lib/python3.6/dist-packages/ipykernel_launcher.py:7: H5pyDeprecationWarning: The default file mode will change to 'r' (read-only) in h5py 3.0. To suppress this warning, pass the mode you need to h5py.File(), or set the global default h5.get_config().default_file_mode, or set the environment variable H5PY_DEFAULT_READONLY=1. Available modes are: 'r', 'r+', 'w', 'w-'/'x', 'a'. See the docs for details.\n",
            "  import sys\n"
          ],
          "name": "stderr"
        },
        {
          "output_type": "stream",
          "text": [
            "Drive already mounted at /content/drive; to attempt to forcibly remount, call drive.mount(\"/content/drive\", force_remount=True).\n"
          ],
          "name": "stdout"
        }
      ]
    },
    {
      "cell_type": "markdown",
      "metadata": {
        "id": "E7hqti1E3YJz",
        "colab_type": "text"
      },
      "source": [
        ""
      ]
    }
  ]
}